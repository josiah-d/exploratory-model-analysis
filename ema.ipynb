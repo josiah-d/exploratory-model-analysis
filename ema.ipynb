{
 "cells": [
  {
   "cell_type": "code",
   "execution_count": 1,
   "id": "a698a74b-b1b3-40ec-aac9-caab4fe42083",
   "metadata": {},
   "outputs": [],
   "source": [
    "%flow mode reactive"
   ]
  },
  {
   "cell_type": "code",
   "execution_count": null,
   "id": "0fb93aae-562e-46c3-b75d-a5a23c165408",
   "metadata": {},
   "outputs": [],
   "source": []
  },
  {
   "cell_type": "code",
   "execution_count": null,
   "id": "b12c800b-0208-4870-90ac-e16bbbcabff1",
   "metadata": {},
   "outputs": [],
   "source": []
  },
  {
   "cell_type": "code",
   "execution_count": null,
   "id": "66ba4c7c-2b4d-47f0-9bd4-ca300ae8b129",
   "metadata": {},
   "outputs": [],
   "source": []
  },
  {
   "cell_type": "code",
   "execution_count": null,
   "id": "a589a711-2a48-4d2c-af50-048bd82c032b",
   "metadata": {},
   "outputs": [],
   "source": []
  },
  {
   "cell_type": "code",
   "execution_count": null,
   "id": "28bb65fd-6310-4741-82aa-d1ca589015f3",
   "metadata": {},
   "outputs": [],
   "source": []
  },
  {
   "cell_type": "code",
   "execution_count": null,
   "id": "ecf9dd7e-868d-45b9-b588-e39c734b8bb7",
   "metadata": {},
   "outputs": [],
   "source": []
  },
  {
   "cell_type": "code",
   "execution_count": null,
   "id": "9ad8680a-5e86-402a-b4e0-451fda7be0f9",
   "metadata": {},
   "outputs": [],
   "source": []
  },
  {
   "cell_type": "code",
   "execution_count": null,
   "id": "b4d96a6e-4bce-469b-abfb-1c37cbd51a8a",
   "metadata": {},
   "outputs": [],
   "source": []
  },
  {
   "cell_type": "code",
   "execution_count": null,
   "id": "6ccf6d80-8591-4e67-8884-0b952fd3e742",
   "metadata": {},
   "outputs": [],
   "source": []
  }
 ],
 "metadata": {
  "ipyflow": {
   "cell_children": {
    "a698a74b-b1b3-40ec-aac9-caab4fe42083": []
   },
   "cell_parents": {
    "a698a74b-b1b3-40ec-aac9-caab4fe42083": []
   }
  },
  "kernelspec": {
   "display_name": "Python 3 (ipyflow)",
   "language": "python",
   "name": "ipyflow"
  },
  "language_info": {
   "codemirror_mode": {
    "name": "ipython",
    "version": 3
   },
   "file_extension": ".py",
   "mimetype": "text/x-python",
   "name": "python",
   "nbconvert_exporter": "python",
   "pygments_lexer": "ipython3",
   "version": "3.10.13"
  }
 },
 "nbformat": 4,
 "nbformat_minor": 5
}
